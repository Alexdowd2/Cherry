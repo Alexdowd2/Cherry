{
 "cells": [
  {
   "cell_type": "code",
   "execution_count": null,
   "metadata": {},
   "outputs": [],
   "source": [
    "import pandas as pd\n",
    "import numpy as np\n",
    "from openpyxl import load_workbook\n",
    "\n",
    "print(\"libraries uploaded\")"
   ]
  },
  {
   "cell_type": "code",
   "execution_count": null,
   "metadata": {},
   "outputs": [],
   "source": [
    "df = pd.read_excel(\n",
    "    r'O:\\Procurement Planning\\QA\\QA Reviews\\Daily Medium-Dollar Invoice Report\\2020\\(12) December\\12.17.2020 Daily Medium Dollar Invoice Report.xlsx')\n",
    "df.head()"
   ]
  },
  {
   "cell_type": "code",
   "execution_count": null,
   "metadata": {},
   "outputs": [],
   "source": [
    "# filter on previous day's date\n",
    "\n",
    "df = df[(df['Invoice Submit Date - Date'] == '2020-12-16')]\n",
    "print(len(df))\n",
    "df.head()"
   ]
  },
  {
   "cell_type": "code",
   "execution_count": null,
   "metadata": {},
   "outputs": [],
   "source": [
    "# Remove 'Unclassified' and re-format dates\n",
    "\n",
    "df.replace('Unclassified',np.nan, inplace=True)\n",
    "\n",
    "df['Invoice Submit Date - Date'] = pd.to_datetime(df['Invoice Submit Date - Date'])\n",
    "df['Invoice Date Created - Date'] = pd.to_datetime(df['Invoice Date Created - Date'])\n",
    "df['Invoice Date - Date'] = pd.to_datetime(df['Invoice Date - Date'])\n",
    "df['Approved Date - Date'] = pd.to_datetime(df['Approved Date - Date'])\n",
    "df.head()"
   ]
  },
  {
   "cell_type": "code",
   "execution_count": null,
   "metadata": {},
   "outputs": [],
   "source": [
    "# Function to create the 'criteria met' column\n",
    "\n",
    "def f(row):\n",
    "    if row['sum(Invoice Spend)'] >= 10000 and row['sum(Invoice Spend)'] < 100000:\n",
    "        val = 'Yes'\n",
    "    else:\n",
    "        val = 'No'\n",
    "    \n",
    "    return val"
   ]
  },
  {
   "cell_type": "code",
   "execution_count": null,
   "metadata": {},
   "outputs": [],
   "source": [
    "# add the criteria met column\n",
    "\n",
    "df['Criteria Met'] = df.apply(f,axis=1)\n",
    "print(len(df))\n",
    "df.head()"
   ]
  },
  {
   "cell_type": "code",
   "execution_count": null,
   "metadata": {},
   "outputs": [],
   "source": [
    "# Filter on criteria met\n",
    "\n",
    "df = df[(df['Criteria Met'] == 'Yes')]\n",
    "print(len(df))\n",
    "df"
   ]
  },
  {
   "cell_type": "code",
   "execution_count": null,
   "metadata": {},
   "outputs": [],
   "source": [
    "# randomly sample data. \n",
    "# The IF argument checks if there are more or less than 10 rows. If there are 10 or fewer then Python selects distinct\n",
    "# records based on Invoice ID. If there are more than 10 Python selects a random 10. \n",
    "\n",
    "if len(df) > 10:\n",
    "    df = df.sample(10)\n",
    "    \n",
    "\n",
    "elif len(df) <= 10:\n",
    "     df = df.groupby('Invoice ID').apply(lambda df: df.sample(1))\n",
    "        \n",
    "\n",
    "print(len(df))        \n",
    "df"
   ]
  },
  {
   "cell_type": "code",
   "execution_count": null,
   "metadata": {},
   "outputs": [],
   "source": [
    "df.drop('Criteria Met',axis=1, inplace = True)\n",
    "print(len(df))"
   ]
  },
  {
   "cell_type": "code",
   "execution_count": null,
   "metadata": {},
   "outputs": [],
   "source": [
    "# write df to sheet named 'Sample' in existing file\n",
    "\n",
    "path = r'O:\\Procurement Planning\\QA\\QA Reviews\\Daily Medium-Dollar Invoice Report\\2020\\(12) December\\12.17.2020 Daily Medium Dollar Invoice Report.xlsx'\n",
    "\n",
    "book = load_workbook(path)\n",
    "writer = pd.ExcelWriter(path, engine='openpyxl')\n",
    "writer.book = book\n",
    "hide_sheet = book.get_sheet_names()\n",
    "ws = book.get_sheet_by_name('Medium-Dollar Invoices for Audi')\n",
    "ws.sheet_state = 'hidden'\n",
    "\n",
    "\n",
    "df.to_excel(writer, sheet_name='Sample',index=False)\n",
    "\n",
    "\n",
    "writer.save()\n",
    "writer.close()\n"
   ]
  },
  {
   "cell_type": "code",
   "execution_count": null,
   "metadata": {},
   "outputs": [],
   "source": []
  }
 ],
 "metadata": {
  "kernelspec": {
   "display_name": "Python 3",
   "language": "python",
   "name": "python3"
  },
  "language_info": {
   "codemirror_mode": {
    "name": "ipython",
    "version": 3
   },
   "file_extension": ".py",
   "mimetype": "text/x-python",
   "name": "python",
   "nbconvert_exporter": "python",
   "pygments_lexer": "ipython3",
   "version": "3.7.6"
  }
 },
 "nbformat": 4,
 "nbformat_minor": 4
}
