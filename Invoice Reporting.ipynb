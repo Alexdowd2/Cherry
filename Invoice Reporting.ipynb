{
 "cells": [
  {
   "cell_type": "markdown",
   "metadata": {
    "scrolled": false
   },
   "source": [
    "\n",
    "## The following program is for formatting Daily Invoice Reports so they can be slightly modified in Notepad++ then uploaded to Hadoop. \n",
    "\n",
    "### The program will:\n",
    "#### 1. Import the reports and read them into a pandas dataframe\n",
    "#### 2. Add the \"As of Date\" column to the report, this is for SQL queries\n",
    "#### 3. Move the \"Description\" column to the end of the table. This is so if there are any special characters they do not interfere with Hadoop. \n",
    "#### 4. Replace 'Unclassified', which Ariba uses as 'null' with NaN. 'Unclassified' in date fields blocks the date formatting, which is the following step. \n",
    "#### 5. Format date fields as YYYY-MM-DD\n",
    "#### 6. Write the modified dataframe/s to a txt file on the O:Drive\n",
    "#### 7. Convert the EOL delimiter to Unix (LF)\n",
    "\n",
    "### After the program runs, the files will need to be opened in Notepad++ to remove double quotes (\"). \n",
    "### This program is set up to run 5 files at a time, you may copy and paste or remove lines of code to accommodate more or fewer files. \n",
    "### Note: It takes approximately 5 minutes to clean and write 1 file. When you are ready, select \"Cell\" at the top, and \"Run All\". "
   ]
  },
  {
   "cell_type": "code",
   "execution_count": null,
   "metadata": {},
   "outputs": [],
   "source": [
    "# txt Start time\n",
    "\n",
    "from datetime import datetime\n",
    "\n",
    "now = datetime.now()\n",
    "\n",
    "current_time = now.strftime(\"%H:%M:%S\")\n",
    "print(\"Start Time =\", current_time)"
   ]
  },
  {
   "cell_type": "code",
   "execution_count": null,
   "metadata": {},
   "outputs": [],
   "source": [
    "# Import pandas and numpy libraries\n",
    "\n",
    "import pandas as pd\n",
    "import numpy as np\n",
    "\n",
    "df1 = pd.read_excel(\"filepath\")\n",
    "print(\"All files read into dataframes\")\n"
   ]
  },
  {
   "cell_type": "code",
   "execution_count": null,
   "metadata": {
    "scrolled": true
   },
   "outputs": [],
   "source": [
    "# Drop as of date (if it exists) then add 'As of Date' column to the dataframe/s\n",
    "\n",
    "df1.drop(['As of'], axis=1, inplace=True, errors='ignore')\n",
    "df1.drop(['As Of'], axis=1, inplace=True, errors='ignore')\n",
    "df1.drop(['as of'],axis=1, inplace=True, errors='ignore')\n",
    "df1[\"As of Date\"] = \"2020-10-29\"\n",
    "\n",
    "print(\"as of date added\")"
   ]
  },
  {
   "cell_type": "code",
   "execution_count": null,
   "metadata": {},
   "outputs": [],
   "source": [
    "# Move the Description Column to the end of the dataframe. Repeat the code for as many times as needed.\n",
    "\n",
    "cols = list(df1.columns.values) #Make a list of all of the columns in the df\n",
    "cols.pop(cols.index('Description')) #Remove b from list\n",
    "df1 = df1[cols+['Description']]\n",
    "\n",
    "print(\"decription column moved to end\")"
   ]
  },
  {
   "cell_type": "code",
   "execution_count": null,
   "metadata": {},
   "outputs": [],
   "source": [
    "# Replace ariba's 'Unclassified' filler with np.nan\n",
    "\n",
    "df1.replace('Unclassified' , np.nan,inplace=True)\n",
    "\n",
    "print(\"replace unclassified complete\")"
   ]
  },
  {
   "cell_type": "code",
   "execution_count": null,
   "metadata": {},
   "outputs": [],
   "source": [
    "# Reformat the date columns to YYYY-MM-DD format\n",
    "\n",
    "df1['Invoice Date Created - Date'] = pd.to_datetime(df1['Invoice Date Created - Date']).dt.strftime('%Y-%m-%d')\n",
    "df1['Invoice Date - Date'] = pd.to_datetime(df1['Invoice Date - Date']).dt.strftime('%Y-%m-%d')\n",
    "df1['Invoice Submit Date - Date'] = pd.to_datetime(df1['Invoice Submit Date - Date']).dt.strftime('%Y-%m-%d')\n",
    "df1['Approved Date - Date'] = pd.to_datetime(df1['Approved Date - Date']).dt.strftime('%Y-%m-%d')\n",
    "df1['Reconciled Date - Date'] = pd.to_datetime(df1['Reconciled Date - Date']).dt.strftime('%Y-%m-%d')\n",
    "\n",
    "\n",
    "print(\"Date formatting complete\")\n"
   ]
  },
  {
   "cell_type": "code",
   "execution_count": null,
   "metadata": {},
   "outputs": [],
   "source": [
    "# Read files to .txt.\n",
    "\n",
    "df1.to_csv(r\"filepath\", sep='\\t', index=False)\n",
    "\n",
    "print(\"\")\n",
    "print(\"Files read to .txt\")"
   ]
  },
  {
   "cell_type": "markdown",
   "metadata": {},
   "source": [
    "#### The next blocks of code performs the formatting which would otherwise be done manually in Notepad ++. Copy and paste the code to repeat as needed. This code will remove the carriage return \\r and replace with \\n, it will also conver the EOL to Unix (LF). Notepad++ will still be needed to remove double quotes (\"), but the remaining steps will not be needed. "
   ]
  },
  {
   "cell_type": "code",
   "execution_count": null,
   "metadata": {},
   "outputs": [],
   "source": [
    "# replacement strings\n",
    "\n",
    "WINDOWS_LINE_ENDING = b'\\r\\n'\n",
    "UNIX_LINE_ENDING = b'\\n'\n",
    "\n",
    "# file path\n",
    "file_path = r\"filepath\"\n",
    "with open(file_path, 'rb') as open_file:\n",
    "    content = open_file.read()\n",
    "\n",
    "content = content.replace(WINDOWS_LINE_ENDING, UNIX_LINE_ENDING)\n",
    "\n",
    "with open(file_path, 'wb') as open_file:\n",
    "    open_file.write(content)\n",
    "    \n"
   ]
  },
  {
   "cell_type": "code",
   "execution_count": null,
   "metadata": {},
   "outputs": [],
   "source": [
    "now = datetime.now()\n",
    "\n",
    "current_time = now.strftime(\"%H:%M:%S\")\n",
    "print(\"Finished time =\", current_time)"
   ]
  }
 ],
 "metadata": {
  "kernelspec": {
   "display_name": "Python 3",
   "language": "python",
   "name": "python3"
  },
  "language_info": {
   "codemirror_mode": {
    "name": "ipython",
    "version": 3
   },
   "file_extension": ".py",
   "mimetype": "text/x-python",
   "name": "python",
   "nbconvert_exporter": "python",
   "pygments_lexer": "ipython3",
   "version": "3.7.6"
  }
 },
 "nbformat": 4,
 "nbformat_minor": 4
}
