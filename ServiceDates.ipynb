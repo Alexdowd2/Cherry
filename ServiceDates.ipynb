{
 "cells": [
  {
   "cell_type": "code",
   "execution_count": null,
   "metadata": {},
   "outputs": [],
   "source": [
    "import pandas as pd\n",
    "import numpy as np\n",
    "\n",
    "df = pd.read_csv(r'filepath')\n",
    "df2 = pd.read_csv(r'filepath2')\n",
    "\n",
    "print(\"reports read into pandas\")"
   ]
  },
  {
   "cell_type": "code",
   "execution_count": null,
   "metadata": {},
   "outputs": [],
   "source": [
    "# combine the dfs and format the dates in yyyy-mm-dd format\n",
    "df = pd.concat([df, df2])\n",
    "\n",
    "df['ServiceStartDate'] = pd.to_datetime(df['ServiceStartDate'])\n",
    "df['ServiceEndDate'] = pd.to_datetime(df['ServiceEndDate'])\n",
    "\n",
    "df.head()"
   ]
  },
  {
   "cell_type": "code",
   "execution_count": null,
   "metadata": {},
   "outputs": [],
   "source": [
    "# write the file to txt\n",
    "df.to_csv('filpeath'),\n",
    "         sep='\\t',\n",
    "         index=False)\n",
    "\n",
    "print('file read to txt')\n"
   ]
  },
  {
   "cell_type": "code",
   "execution_count": null,
   "metadata": {},
   "outputs": [],
   "source": [
    "# replace line endings and encode as Unix(LF)\n",
    "\n",
    "WINDOWS_LINE_ENDING = b'\\r\\n'\n",
    "UNIX_LINE_ENDING = b'\\n'\n",
    "\n",
    "# file path\n",
    "file_path = r'filepath'\n",
    "with open(file_path, 'rb') as open_file:\n",
    "    content = open_file.read()\n",
    "\n",
    "content = content.replace(WINDOWS_LINE_ENDING, UNIX_LINE_ENDING)\n",
    "\n",
    "with open(file_path, 'wb') as open_file:\n",
    "    open_file.write(content)\n",
    "\n",
    "print(\"ServiceDates file complete\")"
   ]
  }
 ],
 "metadata": {
  "kernelspec": {
   "display_name": "Python 3",
   "language": "python",
   "name": "python3"
  },
  "language_info": {
   "codemirror_mode": {
    "name": "ipython",
    "version": 3
   },
   "file_extension": ".py",
   "mimetype": "text/x-python",
   "name": "python",
   "nbconvert_exporter": "python",
   "pygments_lexer": "ipython3",
   "version": "3.7.6"
  }
 },
 "nbformat": 4,
 "nbformat_minor": 4
}
