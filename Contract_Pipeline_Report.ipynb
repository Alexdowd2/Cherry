{
 "cells": [
  {
   "cell_type": "markdown",
   "metadata": {},
   "source": [
    "### This program will format the Contract Pipeline Report for Morgan Stanley. \n",
    "\n",
    "### This program does the following:\n",
    "   #### 1. Reads the contract pipeline report into pandas\n",
    "   #### 2. Isolates contracts in draft or draft amendment into df2\n",
    "   #### 3. Filters on contracts expiring within 365 days and writes to df3\n",
    "   #### 4. Combines df2 and df3 into 1 report\n",
    "   #### 5. Reads a report of LOB and Legal Team reps into df_legal and df_biz\n",
    "   #### 6. Drops duplicates\n",
    "   #### 7. Renames the Project Id columns of all 3 dfs (contract_pipeline, df_legal and df_biz) to 'Project Id'\n",
    "   #### 8. Joins all three dfs into one report (pipeline_final) on the 'Project Id' column\n",
    "   #### 9. Removes duplicates again then writes the final to a CSV on the O:Drive"
   ]
  },
  {
   "cell_type": "code",
   "execution_count": null,
   "metadata": {},
   "outputs": [],
   "source": [
    "#import required libraries\n",
    "\n",
    "import pandas as pd\n",
    "import numpy as np"
   ]
  },
  {
   "cell_type": "code",
   "execution_count": null,
   "metadata": {},
   "outputs": [],
   "source": [
    "#read the pipeline report into pandas and remove all 'Unclassified'\n",
    "\n",
    "df = pd.read_csv(r\"filepath\")\n",
    "print(\"Pipeline Report read into dataframe\")\n",
    "df.replace(\"Unclassified\", np.nan, inplace=True)\n",
    "\n",
    "df.columns"
   ]
  },
  {
   "cell_type": "code",
   "execution_count": null,
   "metadata": {},
   "outputs": [],
   "source": [
    "# create a dataframe, df2, of contracts in draft or draft amendment status from df\n",
    "\n",
    "df2 = df[df['[PCW] Contract Status'].isin([\"Draft\", \"Draft Amendment\"])]\n",
    "\n",
    "print(len(df2))\n",
    "df2"
   ]
  },
  {
   "cell_type": "code",
   "execution_count": null,
   "metadata": {},
   "outputs": [],
   "source": [
    "# check data types, date fields will need to be converted into dates\n",
    "df.dtypes"
   ]
  },
  {
   "cell_type": "code",
   "execution_count": null,
   "metadata": {},
   "outputs": [],
   "source": [
    "# convert dates to date types\n",
    "\n",
    "df['[PCW]Contract (Expiration Date)']= pd.to_datetime(df['[PCW]Contract (Expiration Date)'])\n",
    "df['[PCW]Contract (Effective Date)']= pd.to_datetime(df['[PCW]Contract (Effective Date)'])\n",
    "df['[PCW]Start Date (Date)']= pd.to_datetime(df['[PCW]Start Date (Date)'])\n",
    "df['[PCW]End Date (Date)']= pd.to_datetime(df['[PCW]End Date (Date)'])"
   ]
  },
  {
   "cell_type": "code",
   "execution_count": null,
   "metadata": {},
   "outputs": [],
   "source": [
    "# create the df of contracts expiring within 365 days of today\n",
    "\n",
    "from datetime import timedelta\n",
    "\n",
    "one_year = np.timedelta64(365,'D')\n",
    "today = np.datetime64('today')\n",
    "mask = df['[PCW]Contract (Expiration Date)'] <= today + one_year \n",
    "\n",
    "df3 = df.loc[mask]\n",
    "\n",
    "print(len(df3))\n",
    "df3.head()"
   ]
  },
  {
   "cell_type": "code",
   "execution_count": null,
   "metadata": {},
   "outputs": [],
   "source": [
    "# combine df2 and df3 into 1 report and exclude duplicates\n",
    "\n",
    "contract_pipeline = pd.concat([df2,df3]).drop_duplicates().reset_index(drop=True)\n",
    "print(len(contract_pipeline))\n",
    "contract_pipeline.head()"
   ]
  },
  {
   "cell_type": "code",
   "execution_count": null,
   "metadata": {},
   "outputs": [],
   "source": [
    "# read the LOB and Legal rep report into pandas\n",
    "\n",
    "df_bu = pd.read_csv(r'filepath')\n",
    "df_bu.columns"
   ]
  },
  {
   "cell_type": "code",
   "execution_count": null,
   "metadata": {},
   "outputs": [],
   "source": [
    "# separate them into 2 dataframes\n",
    "\n",
    "df_legal = df_bu[(df_bu['[PGP] Project Group Name'] == \"Legal Team\")]\n",
    "df_biz = df_bu[(df_bu['[PGP] Project Group Name'] == \"Line of Business\")]"
   ]
  },
  {
   "cell_type": "code",
   "execution_count": null,
   "metadata": {},
   "outputs": [],
   "source": [
    "# sometimes there are multiple legal and LOB reps to 1 contract\n",
    "# it doesn't matter which rep is included in the report, so remove duplicates and tell python to just keep the first name\n",
    "\n",
    "df_legal = df_legal.drop_duplicates(subset='[PGP] Project Id', keep='first')\n",
    "df_biz = df_biz.drop_duplicates(subset='[PGP] Project Id', keep='first')"
   ]
  },
  {
   "cell_type": "code",
   "execution_count": null,
   "metadata": {},
   "outputs": [],
   "source": [
    "# join df_legal to the contract_pipeline and assign to pipeline_report\n",
    "\n",
    "#first, rename the project ID fields from all 3 dfs so that they match and can be looked up\n",
    "df_legal = df_legal.rename(columns = {'[PGP] Project Id': 'Project Id', '[PGP] Member Name': 'Legal Rep'})\n",
    "df_biz = df_biz.rename(columns = {'[PGP] Project Id': 'Project Id', '[PGP] Member Name': 'LOB Rep'})\n",
    "contract_pipeline = contract_pipeline.rename(columns={'[PCW]Project (Project Id)': 'Project Id'})"
   ]
  },
  {
   "cell_type": "code",
   "execution_count": null,
   "metadata": {},
   "outputs": [],
   "source": [
    "# merge the legal and LOB dfs to the pipeline report\n",
    "\n",
    "from functools import reduce\n",
    "\n",
    "dfs = [contract_pipeline, df_legal, df_biz]\n",
    "\n",
    "pipeline_final = reduce(lambda left, right: pd.merge(left,right, on=\"Project Id\"), dfs)\n",
    "pipeline_final.head()"
   ]
  },
  {
   "cell_type": "code",
   "execution_count": null,
   "metadata": {},
   "outputs": [],
   "source": [
    "# drop unnecessary columns\n",
    "pipeline_final.drop(['[PGP] Project Group Name_x', '[PGP] Project Group Unique Name_x','count(ProjectGroup)_x',\n",
    "                   '[PGP] Project Group Name_y', '[PGP] Project Group Unique Name_y', 'count(ProjectGroup)_y'],\n",
    "                    axis=1,inplace=True)\n",
    "pipeline_final.head()"
   ]
  },
  {
   "cell_type": "code",
   "execution_count": null,
   "metadata": {},
   "outputs": [],
   "source": [
    "# drop duplicates from the pipeline_final and write to csv\n",
    "\n",
    "pipeline_final = pipeline_final.drop_duplicates(subset='Project Id', keep='first')\n",
    "pipeline_final.to_csv(r'filepath', index=False)"
   ]
  }
 ],
 "metadata": {
  "kernelspec": {
   "display_name": "Python 3",
   "language": "python",
   "name": "python3"
  },
  "language_info": {
   "codemirror_mode": {
    "name": "ipython",
    "version": 3
   },
   "file_extension": ".py",
   "mimetype": "text/x-python",
   "name": "python",
   "nbconvert_exporter": "python",
   "pygments_lexer": "ipython3",
   "version": "3.7.6"
  }
 },
 "nbformat": 4,
 "nbformat_minor": 4
}
