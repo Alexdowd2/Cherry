{
 "cells": [
  {
   "cell_type": "code",
   "execution_count": null,
   "metadata": {},
   "outputs": [],
   "source": [
    "# import the required libraries\n",
    "\n",
    "import pandas as pd\n",
    "import numpy as np\n",
    "\n",
    "df_invoices = pd.read_csv(\n",
    "    r'filepath')\n",
    "\n",
    "df_exceptions = pd.read_csv(\n",
    "    r'filepath')\n",
    "\n",
    "print(\"Libraries and Excel files read into pandas\")"
   ]
  },
  {
   "cell_type": "code",
   "execution_count": null,
   "metadata": {},
   "outputs": [],
   "source": [
    "# the function defines the conditions under which the Invoice Type column will display \"Purchase Order\" or \"Others\"\n",
    "\n",
    "def f(row):\n",
    "    if row['PO Id'] != 'Unclassified':\n",
    "        val = 'Purchase Order'\n",
    "    else:\n",
    "        val = 'Others'\n",
    "        \n",
    "    return val\n",
    "\n",
    "# add new Invoice Type column\n",
    "df_invoices['Invoice Type'] = df_invoices.apply(f,axis=1)\n",
    "\n",
    "print(df_invoices.shape)\n",
    "df_invoices.head()\n"
   ]
  },
  {
   "cell_type": "code",
   "execution_count": null,
   "metadata": {},
   "outputs": [],
   "source": [
    "# replace 'Unclassified' in date columns\n",
    "\n",
    "df_invoices['Invoice Date Created - Date'] = df_invoices['Invoice Date Created - Date'].replace('Unclassified', np.nan)\n",
    "df_invoices['Invoice Date - Date'] = df_invoices['Invoice Date - Date'].replace('Unclassified', np.nan)\n",
    "df_invoices['Invoice Submit Date - Date'] = df_invoices['Invoice Submit Date - Date'].replace('Unclassified', np.nan)\n",
    "df_invoices['Approved Date - Date'] = df_invoices['Approved Date - Date'].replace('Unclassified', np.nan)\n",
    "df_invoices['Reconciled Date - Date'] = df_invoices['Reconciled Date - Date'].replace('Unclassified', np.nan)\n",
    "df_invoices['Paid Date - Date'] = df_invoices['Paid Date - Date'].replace('Unclassified', np.nan)\n",
    "df_invoices['Accounting Date'] = df_invoices['Accounting Date'].replace('Unclassified', np.nan)\n",
    "df_invoices['Received Date - Date'] = df_invoices['Received Date - Date'].replace('Unclassified', np.nan)\n",
    "\n",
    "# convert all dates to datetime\n",
    "\n",
    "df_invoices['Invoice Date Created - Date'] = pd.to_datetime(df_invoices['Invoice Date Created - Date'])\n",
    "df_invoices['Invoice Date - Date'] = pd.to_datetime(df_invoices['Invoice Date - Date'])\n",
    "df_invoices['Invoice Submit Date - Date'] = pd.to_datetime(df_invoices['Invoice Submit Date - Date'])\n",
    "df_invoices['Approved Date - Date'] = pd.to_datetime(df_invoices['Approved Date - Date'])\n",
    "df_invoices['Reconciled Date - Date'] = pd.to_datetime(df_invoices['Reconciled Date - Date'])\n",
    "df_invoices['Paid Date - Date'] = pd.to_datetime(df_invoices['Paid Date - Date'])\n",
    "df_invoices['Accounting Date'] = pd.to_datetime(df_invoices['Accounting Date'])\n",
    "df_invoices['Received Date - Date'] = pd.to_datetime(df_invoices['Received Date - Date'])\n",
    "\n",
    "# confirm the date types changed\n",
    "\n",
    "print(df_invoices.shape)\n",
    "print(\"Invoice Date Created: \", df_invoices['Invoice Date Created - Date'].dtypes)\n",
    "print(\"Invoice Date: \", df_invoices['Invoice Date - Date'].dtypes)\n",
    "print(\"Invoice Submit Date: \", df_invoices['Invoice Submit Date - Date'].dtypes)\n",
    "print(\"Approved Date: \", df_invoices['Approved Date - Date'].dtypes)\n",
    "print(\"Reconciled Date: \", df_invoices['Reconciled Date - Date'].dtypes)\n",
    "print(\"Paid Date: \",df_invoices['Paid Date - Date'].dtypes)\n",
    "print(\"Accounting Date: \", df_invoices['Accounting Date'].dtypes)\n",
    "print(\"Received Date: \", df_invoices['Received Date - Date'].dtypes)"
   ]
  },
  {
   "cell_type": "code",
   "execution_count": null,
   "metadata": {},
   "outputs": [],
   "source": [
    "# Invoice to Submit\n",
    "# caclulate difference in 'days'\n",
    "df_invoices[\"Invoice to Submit\"] = df_invoices['Invoice Submit Date - Date'].sub(\n",
    "    df_invoices['Invoice Date - Date'], axis = 0)\n",
    "\n",
    "# convert to float so difference displays as numeric\n",
    "df_invoices['Invoice to Submit'] = df_invoices['Invoice to Submit']/np.timedelta64(1,'D')\n",
    "\n",
    "# repeat for remaining date metrics\n",
    "\n",
    "# Submit to Approved IR\n",
    "df_invoices['Submit to Approved IR Date'] = df_invoices['Accounting Date'].sub(\n",
    "    df_invoices['Invoice Submit Date - Date'], axis = 0)\n",
    "\n",
    "df_invoices['Submit to Approved IR Date'] = df_invoices['Submit to Approved IR Date']/np.timedelta64(1, 'D')\n",
    "\n",
    "# IR Date to Approved Date\n",
    "df_invoices['IR Date to Approved Date'] = df_invoices['Approved Date - Date'].sub(\n",
    "    df_invoices['Accounting Date'], axis= 0)\n",
    "\n",
    "df_invoices['IR Date to Approved Date'] = df_invoices['IR Date to Approved Date']/np.timedelta64(1, 'D')\n",
    "\n",
    "# Invoice Received to Approved Date\n",
    "df_invoices['Invoice Received to Approved Date'] = df_invoices['Invoice Submit Date - Date'].sub(\n",
    "    df_invoices['Received Date - Date'], axis= 0)\n",
    "\n",
    "df_invoices['Invoice Received to Approved Date'] = df_invoices['Invoice Received to Approved Date']/np.timedelta64(1, 'D')\n",
    "\n",
    "print(df_invoices.shape)\n",
    "df_invoices.head()"
   ]
  },
  {
   "cell_type": "code",
   "execution_count": null,
   "metadata": {},
   "outputs": [],
   "source": [
    "# clean the exceptions df so only the invoice id and exceptions columns remain\n",
    "# this will simplify the join\n",
    "\n",
    "df_exceptions = df_exceptions[['Invoice ID', 'Exception Types - Exception',\n",
    "       'Exception Types - Invoice Exception Level',\n",
    "       'Exception Types - Invoice Exception Type']]\n",
    "\n",
    "# perform the join\n",
    "\n",
    "invoice_report = pd.merge(df_invoices,\n",
    "                         df_exceptions,\n",
    "                         on = 'Invoice ID',\n",
    "                         how = 'left')\n",
    "\n",
    "print(df_invoices.shape)\n",
    "invoice_report.head()"
   ]
  },
  {
   "cell_type": "code",
   "execution_count": null,
   "metadata": {},
   "outputs": [],
   "source": [
    "invoice_report.to_excel(\n",
    "    r'filepath',\n",
    "    index=False)\n",
    "\n",
    "print('report read to excel')"
   ]
  }
 ],
 "metadata": {
  "kernelspec": {
   "display_name": "Python 3",
   "language": "python",
   "name": "python3"
  },
  "language_info": {
   "codemirror_mode": {
    "name": "ipython",
    "version": 3
   },
   "file_extension": ".py",
   "mimetype": "text/x-python",
   "name": "python",
   "nbconvert_exporter": "python",
   "pygments_lexer": "ipython3",
   "version": "3.7.6"
  }
 },
 "nbformat": 4,
 "nbformat_minor": 4
}
